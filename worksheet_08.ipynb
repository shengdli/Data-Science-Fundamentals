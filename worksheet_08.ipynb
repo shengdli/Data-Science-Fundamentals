{
 "cells": [
  {
   "attachments": {},
   "cell_type": "markdown",
   "metadata": {},
   "source": [
    "# Worksheet 08\n",
    "\n",
    "Name:  Shengduo Li\n",
    "UID: U64101332\n",
    "\n",
    "### Topics\n",
    "\n",
    "- Soft Clustering\n",
    "- Clustering Aggregation\n",
    "\n",
    "### Probability Review\n",
    "\n",
    "Read through [the following](https://medium.com/@gallettilance/overview-of-probability-3272b72c82c8)\n",
    "\n",
    "### Soft Clustering\n",
    "\n",
    "We generate 10 data points that come from a normal distribution with mean 5 and variance 1."
   ]
  },
  {
   "cell_type": "code",
   "execution_count": 49,
   "metadata": {},
   "outputs": [
    {
     "name": "stdout",
     "output_type": "stream",
     "text": [
      "[4.540214828606472, 5.211883248850736, 4.761447666892855, 4.788075242880893, 5.826212880651104, 2.8855017782410877, 6.046235186072743, 5.4977917463977395, 6.441537333496354, 4.993132616359467]\n"
     ]
    }
   ],
   "source": [
    "import random\n",
    "import numpy as np\n",
    "from sklearn.cluster import KMeans\n",
    "\n",
    "mean = 5\n",
    "stdev = 1\n",
    "\n",
    "s1 = np.random.normal(mean, stdev, 10).tolist()\n",
    "print(s1)"
   ]
  },
  {
   "cell_type": "markdown",
   "metadata": {},
   "source": [
    "a) Generate 10 more data points, this time coming from a normal distribution with mean 8 and variance 1."
   ]
  },
  {
   "cell_type": "code",
   "execution_count": 50,
   "metadata": {},
   "outputs": [
    {
     "name": "stdout",
     "output_type": "stream",
     "text": [
      "[8.177220542317578, 7.518794736452263, 7.612131794301775, 7.868401414177628, 9.4926705733176, 9.149732649809613, 8.007606874313337, 8.819412774050402, 7.45004811184517, 8.067447709549665]\n"
     ]
    }
   ],
   "source": [
    "s2 = np.random.normal( 8 , 1 , 10 ).tolist()\n",
    "print(s2)"
   ]
  },
  {
   "cell_type": "markdown",
   "metadata": {},
   "source": [
    "b) Flip a fair coin 10 times. If the coin lands on H, then pick the last data point of `c1` and remove it from `c1`, if T then pick the last data point from `c2` and remove it from `c2`. Add these 10 points to a list called `data`."
   ]
  },
  {
   "cell_type": "code",
   "execution_count": 51,
   "metadata": {},
   "outputs": [
    {
     "name": "stdout",
     "output_type": "stream",
     "text": [
      "[8.067447709549665, 4.993132616359467, 7.45004811184517, 6.441537333496354, 8.819412774050402, 8.007606874313337, 5.4977917463977395, 9.149732649809613, 9.4926705733176, 7.868401414177628]\n"
     ]
    }
   ],
   "source": [
    "data = []\n",
    "for i in range(10):\n",
    "    # flip coin\n",
    "    coin_output = random.choice([0, 1])\n",
    "    if coin_output == 0:\n",
    "        p1 = s1.pop()\n",
    "        data.append(p1)\n",
    "    else:\n",
    "        p2 = s2.pop()\n",
    "        data.append(p2)\n",
    "print(data)"
   ]
  },
  {
   "cell_type": "markdown",
   "metadata": {},
   "source": [
    "c) This `data` is a Gaussian Mixture Distribution with 2 mixture components. Over the next few questions we will walk through the GMM algorithm to see if we can uncover the parameters we used to generate this data. First, please list all these parameters of the GMM that created `data` and the values we know they have."
   ]
  },
  {
   "cell_type": "markdown",
   "metadata": {},
   "source": [
    "mean and variance for the two normal distributions, and the number of data that follow each of the two normal distributions."
   ]
  },
  {
   "cell_type": "markdown",
   "metadata": {},
   "source": [
    "d) Let's assume there are two mixture components (note: we could plot the data and make the observation that there are two clusters). The EM algorithm asks us to start with a random `mean_j`, `variance_j`, `P(S_j)` for each component j. One method we could use to find sensible values for these is to apply K means with k=2 here.\n",
    "\n",
    "1. the centroids would be the estimates of the `mean_j`\n",
    "2. the intra-cluster variance could be the estimate of `variance_j`\n",
    "3. the proportion of points in each cluster could be the estimate of `P(S_j)`\n",
    "\n",
    "Go through this process and list the parameter estimates it gives. Are they close or far from the true values?"
   ]
  },
  {
   "cell_type": "code",
   "execution_count": 52,
   "metadata": {},
   "outputs": [
    {
     "name": "stdout",
     "output_type": "stream",
     "text": [
      "[8.067447709549665, 7.45004811184517, 8.819412774050402, 8.007606874313337, 9.149732649809613, 9.4926705733176, 7.868401414177628]\n",
      "[4.993132616359467, 6.441537333496354, 5.4977917463977395]\n",
      "P(S_1) = 0.7,  P(S_2) = 0.3\n",
      "mean_1 = 8.407902872437631,  mean_2 = 5.6441538987511874\n",
      "var_1 = 0.4830095646427481,  var_2 = 0.3603569772581648\n"
     ]
    },
    {
     "name": "stderr",
     "output_type": "stream",
     "text": [
      "/Users/alexisli/opt/anaconda3/lib/python3.9/site-packages/sklearn/cluster/_kmeans.py:1416: FutureWarning: The default value of `n_init` will change from 10 to 'auto' in 1.4. Set the value of `n_init` explicitly to suppress the warning\n",
      "  super()._check_params_vs_input(X, default_n_init=10)\n"
     ]
    }
   ],
   "source": [
    "kmeans = KMeans(2, init='k-means++').fit(X=np.array(data).reshape(-1, 1))\n",
    "\n",
    "s1 = [x[0] for x in filter(lambda x: x[1] == 0, zip(data, kmeans.labels_))]\n",
    "print(s1)\n",
    "s2 = [x[0] for x in filter(lambda x: x[1] == 1, zip(data, kmeans.labels_))]\n",
    "print(s2)\n",
    "\n",
    "prob_s = [ len(s1) / (len(s1) + len(s2)) ,len(s2) / (len(s1) + len(s2)) ]\n",
    "mean = [ sum(s1)/len(s1) , sum(s2)/len(s2)  ]\n",
    "var = [ sum(map(lambda x : (x - mean[0])**2, s1)) / len(s1) , sum(map(lambda x : (x - mean[1])**2, s2)) / len(s2)  ]\n",
    "\n",
    "print(\"P(S_1) = \" + str(prob_s[0]) + \",  P(S_2) = \" + str(prob_s[1]))\n",
    "print(\"mean_1 = \" + str(mean[0]) + \",  mean_2 = \" + str(mean[1]))\n",
    "print(\"var_1 = \" + str(var[0]) + \",  var_2 = \" + str(var[1]))"
   ]
  },
  {
   "cell_type": "markdown",
   "metadata": {},
   "source": [
    "They are not very close from the true value."
   ]
  },
  {
   "cell_type": "markdown",
   "metadata": {},
   "source": [
    "e) For each data point, compute `P(S_j | X_i)`. Comment on which cluster you think each point belongs to based on the estimated probabilities. How does that compare to the truth?"
   ]
  },
  {
   "cell_type": "code",
   "execution_count": 53,
   "metadata": {},
   "outputs": [
    {
     "name": "stdout",
     "output_type": "stream",
     "text": [
      "point =  8.067447709549665\n",
      "probability of observing that point if it came from cluster 0 =  0.6442715118863129\n",
      "probability of observing that point if it came from cluster 1 =  1.676577039363564e-10\n",
      "point =  4.993132616359467\n",
      "probability of observing that point if it came from cluster 0 =  1.157587207441127e-11\n",
      "probability of observing that point if it came from cluster 1 =  0.2164962572652796\n",
      "point =  7.45004811184517\n",
      "probability of observing that point if it came from cluster 0 =  0.11560728245233828\n",
      "probability of observing that point if it came from cluster 1 =  3.896776588644277e-06\n",
      "point =  6.441537333496354\n",
      "probability of observing that point if it came from cluster 0 =  0.00020798940483416842\n",
      "probability of observing that point if it came from cluster 1 =  0.09571010695641517\n",
      "point =  8.819412774050402\n",
      "probability of observing that point if it came from cluster 0 =  0.5745623956272405\n",
      "probability of observing that point if it came from cluster 1 =  1.5296718132299816e-17\n",
      "point =  8.007606874313337\n",
      "probability of observing that point if it came from cluster 0 =  0.5858824441856447\n",
      "probability of observing that point if it came from cluster 1 =  5.051421679914941e-10\n",
      "point =  5.4977917463977395\n",
      "probability of observing that point if it came from cluster 0 =  1.0826554058910036e-08\n",
      "probability of observing that point if it came from cluster 1 =  1.0194253870088523\n",
      "point =  9.149732649809613\n",
      "probability of observing that point if it came from cluster 0 =  0.2539454367672515\n",
      "probability of observing that point if it came from cluster 1 =  3.121496739857491e-21\n",
      "point =  9.4926705733176\n",
      "probability of observing that point if it came from cluster 0 =  0.06632794765229753\n",
      "probability of observing that point if it came from cluster 1 =  1.8926716530753036e-25\n",
      "point =  7.868401414177628\n",
      "probability of observing that point if it came from cluster 0 =  0.4426316086424361\n",
      "probability of observing that point if it came from cluster 1 =  5.906581643731194e-09\n",
      "8.067447709549665\n",
      "Probability of coming from S_1 = 0.9999999998884735\n",
      "Probability of coming from S_2 = 1.115264300118169e-10\n",
      "\n",
      "4.993132616359467\n",
      "Probability of coming from S_1 = 1.2476136313599083e-10\n",
      "Probability of coming from S_2 = 0.9999999998752386\n",
      "\n",
      "7.45004811184517\n",
      "Probability of coming from S_1 = 0.9999855543444232\n",
      "Probability of coming from S_2 = 1.4445655576949841e-05\n",
      "\n",
      "6.441537333496354\n",
      "Probability of coming from S_1 = 0.005045028480990382\n",
      "Probability of coming from S_2 = 0.9949549715190096\n",
      "\n",
      "8.819412774050402\n",
      "Probability of coming from S_1 = 1.0\n",
      "Probability of coming from S_2 = 1.1409964161085438e-17\n",
      "\n",
      "8.007606874313337\n",
      "Probability of coming from S_1 = 0.9999999996304898\n",
      "Probability of coming from S_2 = 3.6951013404864973e-10\n",
      "\n",
      "5.4977917463977395\n",
      "Probability of coming from S_1 = 2.4780586364350126e-08\n",
      "Probability of coming from S_2 = 0.9999999752194135\n",
      "\n",
      "9.149732649809613\n",
      "Probability of coming from S_1 = 1.0\n",
      "Probability of coming from S_2 = 5.267999039919354e-21\n",
      "\n",
      "9.4926705733176\n",
      "Probability of coming from S_1 = 1.0\n",
      "Probability of coming from S_2 = 1.2229309407058563e-24\n",
      "\n",
      "7.868401414177628\n",
      "Probability of coming from S_1 = 0.9999999942810407\n",
      "Probability of coming from S_2 = 5.7189592182866894e-09\n",
      "\n"
     ]
    }
   ],
   "source": [
    "from scipy.stats import norm\n",
    "\n",
    "prob_s0_x = [] # P(S_0 | X_i)\n",
    "prob_s1_x = [] # P(S_1 | X_i)\n",
    "prob_x = [] # P(X_i)\n",
    "\n",
    "k = 2\n",
    "\n",
    "for p in data:\n",
    "    print(\"point = \", p)\n",
    "    pdf_i = []\n",
    "\n",
    "    for j in range(k):\n",
    "        # P(X_i | S_j)\n",
    "        pdf_i.append(norm.pdf(p, mean[j], var[j]))\n",
    "        print(\"probability of observing that point if it came from cluster \" + str(j) + \" = \", pdf_i[j])\n",
    "        # P(S_j) already computed\n",
    "        prob_s[j]\n",
    "\n",
    "    # P(X_i) = P(S_0)P(X_i | S_0) + P(S_1)P(X_i | S_1)\n",
    "    prob_x = prob_s[0] * pdf_i[0] + prob_s[1] * pdf_i[1]\n",
    "\n",
    "    # P(S_j | X_i) = P(X_i | S_j)P(S_j) / P(X_i)\n",
    "    prob_s0_x.append((pdf_i[0]*prob_s[0])/prob_x )\n",
    "    prob_s1_x.append((pdf_i[1]*prob_s[1])/prob_x )\n",
    "\n",
    "probs = zip(data, prob_s0_x, prob_s1_x)\n",
    "for p in probs:\n",
    "    print(p[0])\n",
    "    print(\"Probability of coming from S_1 = \" + str(p[1]))\n",
    "    print(\"Probability of coming from S_2 = \" + str(p[2]))\n",
    "    print()\n"
   ]
  },
  {
   "cell_type": "markdown",
   "metadata": {},
   "source": [
    "The cluster I think each data comes from based on the estimation are the same as the truth."
   ]
  },
  {
   "cell_type": "markdown",
   "metadata": {},
   "source": [
    "f) Having computed `P(S_j | X_i)`, update the estimates of `mean_j`, `var_j`, and `P(S_j)`. How different are these values from the original ones you got from K means? briefly comment."
   ]
  },
  {
   "cell_type": "code",
   "execution_count": 54,
   "metadata": {},
   "outputs": [
    {
     "name": "stdout",
     "output_type": "stream",
     "text": [
      "P(S_1) = 0.7005030601530765,  P(S_2) = 0.29949693984692344\n",
      "mean_1 = 8.406488659832352,  mean_2 = 5.642819421930599\n",
      "var_1 = 0.48544355703485875,  var_2 = 0.3599051824849819\n"
     ]
    }
   ],
   "source": [
    "prob_c = [sum(prob_s0_x)/ len(prob_s0_x), sum(prob_s1_x)/ len(prob_s1_x) ]\n",
    "mean = [sum([x[0] * x[1] for x in zip(prob_s0_x, data)]) / sum(prob_s0_x), sum([x[0] * x[1] for x in zip(prob_s1_x, data)]) / sum(prob_s1_x) ]\n",
    "var = [sum([x[0] * (x[1] - mean[0])**2 for x in zip(prob_s0_x, data)]) / sum(prob_s0_x), sum([x[0] * (x[1] - mean[1])**2 for x in zip(prob_s1_x, data)]) / sum(prob_s1_x)]\n",
    "\n",
    "print(\"P(S_1) = \" + str(prob_c[0]) + \",  P(S_2) = \" + str(prob_c[1]))\n",
    "print(\"mean_1 = \" + str(mean[0]) + \",  mean_2 = \" + str(mean[1]))\n",
    "print(\"var_1 = \" + str(var[0]) + \",  var_2 = \" + str(var[1]))"
   ]
  },
  {
   "cell_type": "markdown",
   "metadata": {},
   "source": [
    "\n",
    "The new estimates of mean_j,var_j, and P(S_j) are all slightly different with the these values from the original ones."
   ]
  },
  {
   "cell_type": "markdown",
   "metadata": {},
   "source": []
  },
  {
   "cell_type": "markdown",
   "metadata": {},
   "source": [
    "g) Update `P(S_j | X_i)`. Comment on any differences or lack thereof you observe."
   ]
  },
  {
   "cell_type": "code",
   "execution_count": 55,
   "metadata": {},
   "outputs": [
    {
     "name": "stdout",
     "output_type": "stream",
     "text": [
      "point =  8.067447709549665\n",
      "probability of observing that point if it came from cluster 0 =  0.6439476317470305\n",
      "probability of observing that point if it came from cluster 1 =  1.5468696017547265e-10\n",
      "point =  4.993132616359467\n",
      "probability of observing that point if it came from cluster 0 =  1.509498916939073e-11\n",
      "probability of observing that point if it came from cluster 1 =  0.2173324610481645\n",
      "point =  7.45004811184517\n",
      "probability of observing that point if it came from cluster 0 =  0.11798827108613368\n",
      "probability of observing that point if it came from cluster 1 =  3.710796173039782e-06\n",
      "point =  6.441537333496354\n",
      "probability of observing that point if it came from cluster 0 =  0.00022749945889827784\n",
      "probability of observing that point if it came from cluster 1 =  0.09446282712825899\n",
      "point =  8.819412774050402\n",
      "probability of observing that point if it came from cluster 0 =  0.5723430876585167\n",
      "probability of observing that point if it came from cluster 1 =  1.3445547095350986e-17\n",
      "point =  8.007606874313337\n",
      "probability of observing that point if it came from cluster 0 =  0.5863551819283125\n",
      "probability of observing that point if it came from cluster 1 =  4.676434756137598e-10\n",
      "point =  5.4977917463977395\n",
      "probability of observing that point if it came from cluster 0 =  1.3144269437049641e-08\n",
      "probability of observing that point if it came from cluster 1 =  1.022026512398988\n",
      "point =  9.149732649809613\n",
      "probability of observing that point if it came from cluster 0 =  0.2545339401086662\n",
      "probability of observing that point if it came from cluster 1 =  2.6766681475332425e-21\n",
      "point =  9.4926705733176\n",
      "probability of observing that point if it came from cluster 0 =  0.067241920295946\n",
      "probability of observing that point if it came from cluster 1 =  1.578257394872006e-25\n",
      "point =  7.868401414177628\n",
      "probability of observing that point if it came from cluster 0 =  0.4446041721029748\n",
      "probability of observing that point if it came from cluster 1 =  5.509892799673307e-09\n",
      "8.067447709549665\n",
      "Probability of coming from S_1 = 0.9999999998972964\n",
      "Probability of coming from S_2 = 1.0270356220733373e-10\n",
      "\n",
      "4.993132616359467\n",
      "Probability of coming from S_1 = 1.6245229657656218e-10\n",
      "Probability of coming from S_2 = 0.9999999998375477\n",
      "\n",
      "7.45004811184517\n",
      "Probability of coming from S_1 = 0.999986553638732\n",
      "Probability of coming from S_2 = 1.3446361267892915e-05\n",
      "\n",
      "6.441537333496354\n",
      "Probability of coming from S_1 = 0.005601412742518895\n",
      "Probability of coming from S_2 = 0.9943985872574811\n",
      "\n",
      "8.819412774050402\n",
      "Probability of coming from S_1 = 1.0\n",
      "Probability of coming from S_2 = 1.0043946449974494e-17\n",
      "\n",
      "8.007606874313337\n",
      "Probability of coming from S_1 = 0.9999999996590141\n",
      "Probability of coming from S_2 = 3.409859340092949e-10\n",
      "\n",
      "5.4977917463977395\n",
      "Probability of coming from S_1 = 3.008097615480455e-08\n",
      "Probability of coming from S_2 = 0.9999999699190238\n",
      "\n",
      "9.149732649809613\n",
      "Probability of coming from S_1 = 1.0\n",
      "Probability of coming from S_2 = 4.496050524292759e-21\n",
      "\n",
      "9.4926705733176\n",
      "Probability of coming from S_1 = 1.0\n",
      "Probability of coming from S_2 = 1.003506240966934e-24\n",
      "\n",
      "7.868401414177628\n",
      "Probability of coming from S_1 = 0.9999999947015119\n",
      "Probability of coming from S_2 = 5.298488129613226e-09\n",
      "\n"
     ]
    }
   ],
   "source": [
    "from scipy.stats import norm\n",
    "\n",
    "prob_s0_x = [] # P(S_0 | X_i)\n",
    "prob_s1_x = [] # P(S_1 | X_i)\n",
    "prob_x = [] # P(X_i)\n",
    "\n",
    "k = 2\n",
    "\n",
    "for p in data:\n",
    "    print(\"point = \", p)\n",
    "    pdf_i = []\n",
    "\n",
    "    for j in range(k):\n",
    "        # P(X_i | S_j)\n",
    "        pdf_i.append(norm.pdf(p, mean[j], var[j]))\n",
    "        print(\"probability of observing that point if it came from cluster \" + str(j) + \" = \", pdf_i[j])\n",
    "        # P(S_j) already computed\n",
    "        prob_s[j]\n",
    "\n",
    "    # P(X_i) = P(S_0)P(X_i | S_0) + P(S_1)P(X_i | S_1)\n",
    "    prob_x = prob_c[0] * pdf_i[0] + prob_c[1] * pdf_i[1]\n",
    "\n",
    "    # P(S_j | X_i) = P(X_i | S_j)P(S_j) / P(X_i)\n",
    "    prob_s0_x.append((pdf_i[0]*prob_c[0])/prob_x )\n",
    "    prob_s1_x.append((pdf_i[1]*prob_c[1])/prob_x )\n",
    "\n",
    "probs = zip(data, prob_s0_x, prob_s1_x)\n",
    "for p in probs:\n",
    "    print(p[0])\n",
    "    print(\"Probability of coming from S_1 = \" + str(p[1]))\n",
    "    print(\"Probability of coming from S_2 = \" + str(p[2]))\n",
    "    print()\n"
   ]
  },
  {
   "cell_type": "markdown",
   "metadata": {},
   "source": []
  },
  {
   "cell_type": "markdown",
   "metadata": {},
   "source": [
    "h) Use `P(S_j | X_i)` to create a hard assignment - label each point as belonging to a specific cluster (0 or 1)"
   ]
  },
  {
   "cell_type": "code",
   "execution_count": 56,
   "metadata": {},
   "outputs": [
    {
     "name": "stdout",
     "output_type": "stream",
     "text": [
      "point: 8.067447709549665 belongs to cluster 1\n",
      "point: 4.993132616359467 belongs to cluster 0\n",
      "point: 7.45004811184517 belongs to cluster 1\n",
      "point: 6.441537333496354 belongs to cluster 0\n",
      "point: 8.819412774050402 belongs to cluster 1\n",
      "point: 8.007606874313337 belongs to cluster 1\n",
      "point: 5.4977917463977395 belongs to cluster 0\n",
      "point: 9.149732649809613 belongs to cluster 1\n",
      "point: 9.4926705733176 belongs to cluster 1\n",
      "point: 7.868401414177628 belongs to cluster 1\n"
     ]
    }
   ],
   "source": [
    "assignment=[]\n",
    "probs = zip(data, prob_s0_x, prob_s1_x)\n",
    "for p in probs:\n",
    "    if p[1]>=p[2]:\n",
    "        assignment.append([p[0],1])\n",
    "    else:\n",
    "        assignment.append([p[0],0])\n",
    "\n",
    "for i in assignment:\n",
    "    print(\"point: \"+str(i[0])+\" belongs to cluster \"+str(i[1]))\n",
    "   "
   ]
  }
 ],
 "metadata": {
  "kernelspec": {
   "display_name": "Python 3",
   "language": "python",
   "name": "python3"
  },
  "language_info": {
   "codemirror_mode": {
    "name": "ipython",
    "version": 3
   },
   "file_extension": ".py",
   "mimetype": "text/x-python",
   "name": "python",
   "nbconvert_exporter": "python",
   "pygments_lexer": "ipython3",
   "version": "3.9.7"
  },
  "orig_nbformat": 4,
  "vscode": {
   "interpreter": {
    "hash": "e7370f93d1d0cde622a1f8e1c04877d8463912d04d973331ad4851f04de6915a"
   }
  }
 },
 "nbformat": 4,
 "nbformat_minor": 2
}
