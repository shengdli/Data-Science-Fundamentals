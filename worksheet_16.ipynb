{
 "cells": [
  {
   "attachments": {},
   "cell_type": "markdown",
   "metadata": {},
   "source": [
    "# Worksheet 16\n",
    "\n",
    "Name:  Shengduo Li\n",
    "UID: U64101332\n",
    "\n",
    "### Topics\n",
    "\n",
    "- Support Vector Machines (Non-linear case)\n",
    "\n",
    "## Support Vector Machines\n",
    "\n",
    "Follow along in class to implement the perceptron algorithm and create an animation of the algorithm."
   ]
  },
  {
   "attachments": {},
   "cell_type": "markdown",
   "metadata": {},
   "source": [
    "a) As we saw in class, the form\n",
    "$$w^T x + b = 0$$\n",
    "while simple, does not expose the inner product `<x_i, x_j>` which we know `w` depends on, having done the math. This is critical to applying the \"kernel trick\" which allows for learning non-linear decision boundaries. Let's modify the above algorithm to use the form\n",
    "$$\\sum_i \\alpha_i <x_i, x> + b = 0$$"
   ]
  },
  {
   "cell_type": "code",
   "execution_count": 3,
   "metadata": {},
   "outputs": [],
   "source": [
    "import numpy as np\n",
    "from PIL import Image as im\n",
    "import matplotlib.pyplot as plt\n",
    "import sklearn.datasets as datasets\n",
    "\n",
    "TEMPFILE = \"temp.png\"\n",
    "CENTERS = [[0, 1], [1, 0]]\n",
    "\n",
    "epochs = 100\n",
    "learning_rate = .05\n",
    "expanding_rate = .99\n",
    "retracting_rate = 1.1\n",
    "\n",
    "X, labels = datasets.make_blobs(n_samples=10, centers=CENTERS, cluster_std=0.2, random_state=0)\n",
    "Y = np.array(list(map(lambda x : -1 if x == 0 else 1, labels.tolist())))\n",
    "\n",
    "alpha_i = np.zeros((len(X),))\n",
    "b = 0\n",
    "\n",
    "def snap(x, alpha_i, b, error):\n",
    "    # create a mesh to plot in\n",
    "    h = .01  # step size in the mesh\n",
    "    x_min, x_max = X[:, 0].min() - .5, X[:, 0].max() + .5\n",
    "    y_min, y_max = X[:, 1].min() - .5, X[:, 1].max() + .5\n",
    "    xx, yy = np.meshgrid(np.arange(x_min, x_max, h),\n",
    "                         np.arange(y_min, y_max, h))\n",
    "\n",
    "    meshData = np.c_[xx.ravel(), yy.ravel()]\n",
    "    cs = np.array([x for x in 'gb'])\n",
    "    fig, ax = plt.subplots()\n",
    "    ax.scatter(X[:,0],X[:,1],color=cs[labels].tolist(), s=50, alpha=0.8)\n",
    "\n",
    "    if error:\n",
    "        ax.add_patch(plt.Circle((x[0], x[1]), .12, color='r',fill=False))\n",
    "    else:\n",
    "        ax.add_patch(plt.Circle((x[0], x[1]), .12, color='y',fill=False))\n",
    "   \n",
    "    Z = predict_many(alpha_i, b, meshData)\n",
    "    Z = np.array([0 if z <=0 else 1 for z in Z]).reshape(xx.shape)\n",
    "    ax.contourf(xx, yy, Z, alpha=.5, cmap=plt.cm.Paired)\n",
    "    fig.savefig(TEMPFILE)\n",
    "    plt.close()\n",
    "    return im.fromarray(np.asarray(im.open(TEMPFILE)))\n",
    "\n",
    "def predict_many(alpha_i, b, Z):\n",
    "    res = []\n",
    "    for i in range(len(Z)):\n",
    "        res.append(predict(alpha_i, b, Z[i]))\n",
    "    return np.array(res)\n",
    "\n",
    "def predict(alpha_i, b, x):\n",
    "    wx = 0\n",
    "    for j in range(len(X)):\n",
    "        wx += alpha_i[j] * np.dot(X[j], x)\n",
    "    return wx + b\n",
    "\n",
    "images = []\n",
    "for _ in range(epochs):\n",
    "    # pick a point from X at random\n",
    "    i = np.random.randint(0, len(X))\n",
    "    error = False\n",
    "    x, y = X[i], Y[i]\n",
    "\n",
    "    ypred = predict(alpha_i, b, x)\n",
    "    if (ypred > 0 and y > 0) or (ypred < 0 and y < 0):\n",
    "        if ypred < 1 and ypred > -1:\n",
    "            alpha_i[i] += y * learning_rate\n",
    "            alpha_i = alpha_i * retracting_rate           \n",
    "            b += y * learning_rate * retracting_rate\n",
    "        else:\n",
    "            alpha_i = alpha_i * expanding_rate\n",
    "            b *= expanding_rate\n",
    "    else:\n",
    "        alpha_i[i] += y * learning_rate\n",
    "        alpha_i = alpha_i * expanding_rate\n",
    "        b += y * learning_rate * expanding_rate\n",
    "  \n",
    "        \n",
    "    images.append(snap(x, alpha_i, b, error))\n",
    "\n",
    "images[0].save(\n",
    "    'svm_dual.gif',\n",
    "    optimize=False,\n",
    "    save_all=True,\n",
    "    append_images=images[1:],\n",
    "    loop=0,\n",
    "    duration=100\n",
    ")"
   ]
  },
  {
   "cell_type": "markdown",
   "metadata": {},
   "source": [
    "Write a configurable kernel function to apply in lieu of the dot product. Try it out on a dataset that is not linearly separable."
   ]
  },
  {
   "cell_type": "code",
   "execution_count": 38,
   "metadata": {},
   "outputs": [],
   "source": [
    "def polynomial(x_i, x_j, c, n):\n",
    "    return (np.dot(x_i, x_j.T) + c) ** n\n",
    "def predict(alpha_i, b, x):\n",
    "    wx = 0\n",
    "    for j in range(len(X)):\n",
    "        wx += alpha_i[j] * polynomial(X[j], x, 0.1, 2)\n",
    "    return wx + b"
   ]
  },
  {
   "attachments": {},
   "cell_type": "markdown",
   "metadata": {},
   "source": [
    "b) Assume we fit an SVM using a polynomial Kernel function and it seems to overfit the data. How would you adjust the tuning parameter `n` of the kernel function?"
   ]
  },
  {
   "cell_type": "markdown",
   "metadata": {},
   "source": [
    "I would decrease the value of parameter n."
   ]
  },
  {
   "attachments": {},
   "cell_type": "markdown",
   "metadata": {},
   "source": [
    "c) Assume we fit an SVM using a RBF Kernel function and it seems to underfit the data. How would you adjust the tuning parameter `sigma` of the kernel function?"
   ]
  },
  {
   "cell_type": "markdown",
   "metadata": {},
   "source": [
    "I would increase the value of parameter sigma."
   ]
  },
  {
   "attachments": {},
   "cell_type": "markdown",
   "metadata": {},
   "source": [
    "d) Tune the parameter of a specific Kernel function, to fit an SVM (using your code above) to the following dataset:"
   ]
  },
  {
   "cell_type": "code",
   "execution_count": 46,
   "metadata": {},
   "outputs": [
    {
     "ename": "IndexError",
     "evalue": "index 10 is out of bounds for axis 0 with size 10",
     "output_type": "error",
     "traceback": [
      "\u001b[0;31m---------------------------------------------------------------------------\u001b[0m",
      "\u001b[0;31mIndexError\u001b[0m                                Traceback (most recent call last)",
      "\u001b[1;32m/Users/alexisli/Documents/GitHub/Data-Science-Fundamentals/worksheet_16.ipynb 单元格 11\u001b[0m line \u001b[0;36m1\n\u001b[1;32m      <a href='vscode-notebook-cell:/Users/alexisli/Documents/GitHub/Data-Science-Fundamentals/worksheet_16.ipynb#X13sZmlsZQ%3D%3D?line=8'>9</a>\u001b[0m error \u001b[39m=\u001b[39m \u001b[39mFalse\u001b[39;00m\n\u001b[1;32m     <a href='vscode-notebook-cell:/Users/alexisli/Documents/GitHub/Data-Science-Fundamentals/worksheet_16.ipynb#X13sZmlsZQ%3D%3D?line=9'>10</a>\u001b[0m x, y \u001b[39m=\u001b[39m X[i], Y[i]\n\u001b[0;32m---> <a href='vscode-notebook-cell:/Users/alexisli/Documents/GitHub/Data-Science-Fundamentals/worksheet_16.ipynb#X13sZmlsZQ%3D%3D?line=11'>12</a>\u001b[0m ypred \u001b[39m=\u001b[39m predict(alpha_i, b, x)\n\u001b[1;32m     <a href='vscode-notebook-cell:/Users/alexisli/Documents/GitHub/Data-Science-Fundamentals/worksheet_16.ipynb#X13sZmlsZQ%3D%3D?line=12'>13</a>\u001b[0m \u001b[39mif\u001b[39;00m (np\u001b[39m.\u001b[39many(ypred \u001b[39m>\u001b[39m \u001b[39m0\u001b[39m) \u001b[39mand\u001b[39;00m np\u001b[39m.\u001b[39many(y \u001b[39m>\u001b[39m \u001b[39m0\u001b[39m))\u001b[39mor\u001b[39;00m (np\u001b[39m.\u001b[39many(ypred \u001b[39m<\u001b[39m \u001b[39m0\u001b[39m) \u001b[39mand\u001b[39;00m np\u001b[39m.\u001b[39many(y \u001b[39m<\u001b[39m \u001b[39m0\u001b[39m)):\n\u001b[1;32m     <a href='vscode-notebook-cell:/Users/alexisli/Documents/GitHub/Data-Science-Fundamentals/worksheet_16.ipynb#X13sZmlsZQ%3D%3D?line=13'>14</a>\u001b[0m     \u001b[39mif\u001b[39;00m np\u001b[39m.\u001b[39many(ypred \u001b[39m<\u001b[39m \u001b[39m1\u001b[39m) \u001b[39mand\u001b[39;00m np\u001b[39m.\u001b[39many(ypred \u001b[39m>\u001b[39m \u001b[39m-\u001b[39m\u001b[39m1\u001b[39m):\n",
      "\u001b[1;32m/Users/alexisli/Documents/GitHub/Data-Science-Fundamentals/worksheet_16.ipynb 单元格 11\u001b[0m line \u001b[0;36m6\n\u001b[1;32m      <a href='vscode-notebook-cell:/Users/alexisli/Documents/GitHub/Data-Science-Fundamentals/worksheet_16.ipynb#X13sZmlsZQ%3D%3D?line=3'>4</a>\u001b[0m wx \u001b[39m=\u001b[39m \u001b[39m0\u001b[39m\n\u001b[1;32m      <a href='vscode-notebook-cell:/Users/alexisli/Documents/GitHub/Data-Science-Fundamentals/worksheet_16.ipynb#X13sZmlsZQ%3D%3D?line=4'>5</a>\u001b[0m \u001b[39mfor\u001b[39;00m j \u001b[39min\u001b[39;00m \u001b[39mrange\u001b[39m(\u001b[39mlen\u001b[39m(X)):\n\u001b[0;32m----> <a href='vscode-notebook-cell:/Users/alexisli/Documents/GitHub/Data-Science-Fundamentals/worksheet_16.ipynb#X13sZmlsZQ%3D%3D?line=5'>6</a>\u001b[0m     wx \u001b[39m+\u001b[39m\u001b[39m=\u001b[39m alpha_i[j] \u001b[39m*\u001b[39m polynomial(X[j], x, \u001b[39m0.1\u001b[39m, \u001b[39m2\u001b[39m)\n\u001b[1;32m      <a href='vscode-notebook-cell:/Users/alexisli/Documents/GitHub/Data-Science-Fundamentals/worksheet_16.ipynb#X13sZmlsZQ%3D%3D?line=6'>7</a>\u001b[0m \u001b[39mreturn\u001b[39;00m wx \u001b[39m+\u001b[39m b\n",
      "\u001b[0;31mIndexError\u001b[0m: index 10 is out of bounds for axis 0 with size 10"
     ]
    }
   ],
   "source": [
    "import numpy as np\n",
    "import matplotlib.pyplot as plt\n",
    "\n",
    "data = np.loadtxt(\"spiral.data\")\n",
    "x, y = data[:, :2], data[:, 2]\n",
    "images = []\n",
    "for _ in range(epochs):\n",
    "    i = np.random.randint(0, len(X))\n",
    "    error = False\n",
    "    x, y = X[i], Y[i]\n",
    "\n",
    "    ypred = predict(alpha_i, b, x)\n",
    "    if (np.any(ypred > 0) and np.any(y > 0))or (np.any(ypred < 0) and np.any(y < 0)):\n",
    "        if np.any(ypred < 1) and np.any(ypred > -1):\n",
    "                alpha_i[i] += y * learning_rate\n",
    "                alpha_i = alpha_i * retracting_rate           \n",
    "                b += y * learning_rate * retracting_rate\n",
    "        else:\n",
    "            alpha_i = alpha_i * expanding_rate\n",
    "            b *= expanding_rate\n",
    "    else:\n",
    "        alpha_i[i] += y * learning_rate\n",
    "        alpha_i = alpha_i * expanding_rate\n",
    "        b += y * learning_rate * expanding_rate\n",
    "    \n",
    "\n",
    "plt.scatter(x[:,0], x[:,1], c=y)"
   ]
  }
 ],
 "metadata": {
  "kernelspec": {
   "display_name": "env",
   "language": "python",
   "name": "python3"
  },
  "language_info": {
   "codemirror_mode": {
    "name": "ipython",
    "version": 3
   },
   "file_extension": ".py",
   "mimetype": "text/x-python",
   "name": "python",
   "nbconvert_exporter": "python",
   "pygments_lexer": "ipython3",
   "version": "3.9.18"
  },
  "orig_nbformat": 4,
  "vscode": {
   "interpreter": {
    "hash": "76ca05dc3ea24b2e3b98cdb7774adfbb40773424bf5109b477fd793f623715af"
   }
  }
 },
 "nbformat": 4,
 "nbformat_minor": 2
}
